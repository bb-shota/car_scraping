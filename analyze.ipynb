{
 "cells": [
  {
   "cell_type": "code",
   "execution_count": 1,
   "metadata": {},
   "outputs": [],
   "source": [
    "from pymongo import MongoClient\n",
    "import numpy as np\n",
    "import matplotlib.pyplot as plt\n",
    "import pandas as pd\n",
    "import math\n",
    "from sklearn.preprocessing import StandardScaler\n",
    "from sklearn.model_selection import train_test_split\n",
    "import statsmodels.api as sm\n",
    "%matplotlib inline"
   ]
  },
  {
   "cell_type": "code",
   "execution_count": 2,
   "metadata": {},
   "outputs": [],
   "source": [
    "client = MongoClient()\n",
    "db = client['CARSENSOR']\n",
    "collection = db['PRIUS']\n",
    "\n",
    "col = collection.find()\n",
    "# nan を含む行を削除\n",
    "df = pd.DataFrame(list(col)).dropna()"
   ]
  },
  {
   "cell_type": "code",
   "execution_count": 3,
   "metadata": {},
   "outputs": [
    {
     "data": {
      "text/plain": [
       "{'_id': ObjectId('5bc2240bb2bf24158484a663'),\n",
       " 'url': 'https://www.carsensor.net/usedcar/detail/CU8456803215/index.html?TRCD=200002',\n",
       " 'base_price': 2430000,\n",
       " 'total_price': 2590000,\n",
       " 'model_year': 2018,\n",
       " 'distance': 0.001,\n",
       " 'repare': 'なし',\n",
       " 'inspection': '新車未登録',\n",
       " 'info': '1.8 S セーフティ プラス 新車 LEDヘッド （ブラック）',\n",
       " 'drive': '2WD',\n",
       " 'recycle': 'リ済込',\n",
       " 'legal_maintenance': '法定整備付',\n",
       " 'warranty': '保証付：販売店保証 保証期間：5年 保証距離：100,000km',\n",
       " 'one_owner': 0,\n",
       " 'record_book': 1,\n",
       " 'no_smoke': 1,\n",
       " 'key': 'CU8456803215',\n",
       " 'region': '愛知県',\n",
       " 'keyless': 1,\n",
       " 'smartkey': 1,\n",
       " 'navi': 0,\n",
       " 'TV': 0,\n",
       " 'video': 0,\n",
       " 'audio': 0,\n",
       " 'player': 0,\n",
       " 'monitor': 0,\n",
       " 'ETC': 0,\n",
       " 'sheat_air': 0,\n",
       " 'sheat_heater': 0,\n",
       " 'idling_stop': 1,\n",
       " 'AS_sensor': 0,\n",
       " 'cruise': 1,\n",
       " 'ABS': 1,\n",
       " 'ESC': 1,\n",
       " 'anti_theft': 1,\n",
       " 'auto_brake': 0,\n",
       " 'parking_assist': 1,\n",
       " 'airbag': '運転席/助手席/サイド/－',\n",
       " 'headlight': 'LED',\n",
       " 'camera': 0,\n",
       " 'around_camera': 0,\n",
       " 'aero': 0,\n",
       " 'alumi_wheel': 0,\n",
       " 'lowdown': 0,\n",
       " 'liftup': 0,\n",
       " 'cold_area': 0}"
      ]
     },
     "execution_count": 3,
     "metadata": {},
     "output_type": "execute_result"
    }
   ],
   "source": [
    "# DBのドキュメント例\n",
    "collection.find_one()"
   ]
  },
  {
   "cell_type": "markdown",
   "metadata": {},
   "source": [
    "## データ読み込み"
   ]
  },
  {
   "cell_type": "code",
   "execution_count": 4,
   "metadata": {},
   "outputs": [
    {
     "name": "stderr",
     "output_type": "stream",
     "text": [
      "D:\\Anaconda3\\lib\\site-packages\\sklearn\\preprocessing\\data.py:617: DataConversionWarning: Data with input dtype int64, float64 were all converted to float64 by StandardScaler.\n",
      "  return self.partial_fit(X, y)\n",
      "D:\\Anaconda3\\lib\\site-packages\\sklearn\\base.py:462: DataConversionWarning: Data with input dtype int64, float64 were all converted to float64 by StandardScaler.\n",
      "  return self.fit(X, **fit_params).transform(X)\n"
     ]
    }
   ],
   "source": [
    "from sklearn.feature_selection import SelectKBest, f_regression\n",
    "from sklearn.model_selection import cross_val_score, cross_validate\n",
    "from sklearn.feature_selection import SelectFromModel, RFE\n",
    "from sklearn import linear_model\n",
    "from sklearn.svm import SVR\n",
    "from sklearn.ensemble import RandomForestRegressor\n",
    "\n",
    "col = collection.find()\n",
    "# nan を含む行を削除\n",
    "df = pd.DataFrame(list(col)).dropna()\n",
    "df = df.sample(frac=1)  # シャッフル\n",
    "df = df.replace('フロント/サイド/バック', 1)\n",
    "df = df.replace('フロント/－/バック', 1)\n",
    "df = df.replace('－/サイド/バック', 1)\n",
    "df = df.replace('－/－/バック', 1)\n",
    "\n",
    "df = df.replace('CD', 0)\n",
    "df = df.replace('DVD', 0)\n",
    "df = df.replace('HDD', 1)\n",
    "df = df.replace('メモリー他', 1)\n",
    "\n",
    "df = df.replace('あり', 1)\n",
    "df = df.replace('なし', 0)\n",
    "\n",
    "df = df.replace('LED', 1)\n",
    "df = df.replace('ディスチャージドランプ', 1)\n",
    "\n",
    "variable_list = [\n",
    "    'distance',\n",
    "    'model_year',\n",
    "    'smartkey',\n",
    "    'keyless',\n",
    "    'record_book',\n",
    "    'cruise',\n",
    "    'parking_assist',\n",
    "    'AS_sensor',\n",
    "    'auto_brake',\n",
    "    'repare',\n",
    "    'camera',\n",
    "    'navi',\n",
    "    'ETC',\n",
    "    'sheat_air',\n",
    "    'sheat_heater',\n",
    "    'ABS',\n",
    "    'ESC',\n",
    "    'anti_theft',\n",
    "    'around_camera',\n",
    "    'aero',\n",
    "    'alumi_wheel',\n",
    "    'lowdown',\n",
    "    'liftup',\n",
    "    'cold_area'\n",
    "]\n",
    "\n",
    "\n",
    "x = df[variable_list]\n",
    "y = df[['base_price']]\n",
    "\n",
    "x_dummies = pd.get_dummies(x[variable_list[2:]])\n",
    "x_ = x.drop(variable_list[2:], axis=1)\n",
    "\n",
    "x_std = StandardScaler().fit_transform(x_)\n",
    "x = np.hstack((x_std, x_dummies.values))\n",
    "x_data_df = pd.DataFrame(x, columns=['distance', 'model_year'] + list(x_dummies.columns))\n",
    "y_data_df = y / 10000\n",
    "y = y_data_df.values.reshape(-1)\n",
    "\n",
    "\n",
    "train_x, test_x, train_y, test_y = train_test_split(x, y, test_size=0.2, random_state=30)\n"
   ]
  },
  {
   "cell_type": "markdown",
   "metadata": {},
   "source": [
    "## 特徴選択(全データを使用、RandomForest)"
   ]
  },
  {
   "cell_type": "code",
   "execution_count": 5,
   "metadata": {},
   "outputs": [
    {
     "name": "stdout",
     "output_type": "stream",
     "text": [
      "model_year       0.836925\n",
      "distance         0.0789052\n",
      "lowdown          0.0168161\n",
      "aero             0.00976041\n",
      "repare           0.00806706\n",
      "cruise           0.00589656\n",
      "auto_brake       0.00579045\n",
      "record_book      0.0051595\n",
      "sheat_heater     0.00469167\n",
      "camera           0.00400534\n",
      "ETC              0.00370045\n",
      "anti_theft       0.00357377\n",
      "navi             0.00314469\n",
      "AS_sensor        0.00273345\n",
      "ESC              0.00260764\n",
      "parking_assist   0.00197162\n",
      "cold_area        0.00177578\n",
      "smartkey         0.00158297\n",
      "alumi_wheel      0.00135012\n",
      "keyless          0.000664804\n",
      "ABS              0.000528251\n",
      "sheat_air        0.000165102\n",
      "around_camera    0.000112198\n",
      "liftup           7.20092e-05\n"
     ]
    }
   ],
   "source": [
    "rf = RandomForestRegressor(n_estimators=200, random_state=50)\n",
    "rf.fit(x, y)\n",
    "\n",
    "fi = rf.feature_importances_\n",
    "result = []\n",
    "for i, label in zip(fi, x_data_df.columns):\n",
    "    result.append((i, label))\n",
    "    \n",
    "result.sort(reverse=True)\n",
    "v = []\n",
    "for i, label in result:\n",
    "    print(\"{0:15}  {1:0.6}\".format(label, i))\n",
    "    v.append(label)"
   ]
  },
  {
   "cell_type": "code",
   "execution_count": 11,
   "metadata": {},
   "outputs": [],
   "source": [
    "def adjusted_r2(r2_list, num_y, num_d):\n",
    "    result = []\n",
    "    for r2 in r2_list:\n",
    "        result.append(1 - (1 - r2) * (num_y - 1) / (num_y - num_d - 1))\n",
    "    return result\n",
    "#     1 - (1-clf.score(x_data, y_data))*(len(y_data)-1)/(len(y_data)-x_data.shape[1]-1)"
   ]
  },
  {
   "cell_type": "code",
   "execution_count": 13,
   "metadata": {},
   "outputs": [
    {
     "name": "stdout",
     "output_type": "stream",
     "text": [
      "mean:0.87579    std:0.0078976\n",
      "mean:0.90187    std:0.0049071\n",
      "mean:0.89518    std:0.0054207\n",
      "mean:0.87769    std:0.0073689\n",
      "mean:0.90777    std:0.0063641\n",
      "mean:0.89033    std:0.0057512\n"
     ]
    }
   ],
   "source": [
    "# cross validationで各モデルを学習・評価\n",
    "# 評価指標には adjusted r2\n",
    "# linear regression, random forest, svrを使用\n",
    "\n",
    "x2 = x_data_df.loc[:, v[:10]].values\n",
    "linear_reg = linear_model.LinearRegression()\n",
    "rf = RandomForestRegressor(n_estimators=200, random_state=50)\n",
    "svr = SVR(gamma='scale')\n",
    "num_y = y.shape[0] // 10\n",
    "\n",
    "lr_scores_sub = cross_val_score(linear_reg, x2, y, cv=10, scoring='r2')\n",
    "rf_scores_sub = cross_val_score(rf, x2, y, cv=10, scoring='r2')\n",
    "svr_scores_sub = cross_val_score(svr, x2, y, cv=10, scoring='r2')\n",
    "lr_scores_all = cross_val_score(linear_reg, x, y, cv=10, scoring='r2')\n",
    "rf_scores_all = cross_val_score(rf, x, y, cv=10, scoring='r2')\n",
    "svr_scores_all = cross_val_score(svr, x, y, cv=10, scoring='r2')\n",
    "\n",
    "lr_adr2_sub = adjusted_r2(lr_scores_sub, num_y, x2.shape[1])\n",
    "rf_adr2_sub = adjusted_r2(rf_scores_sub, num_y, x2.shape[1])\n",
    "svr_adr2_sub = adjusted_r2(svr_scores_sub, num_y, x2.shape[1])\n",
    "lr_adr2_all = adjusted_r2(lr_scores_all, num_y, x.shape[1])\n",
    "rf_adr2_all = adjusted_r2(rf_scores_all, num_y, x.shape[1])\n",
    "svr_adr2_all = adjusted_r2(svr_scores_all, num_y, x.shape[1])\n",
    "\n",
    "for a in [lr_adr2_sub, rf_adr2_sub, svr_adr2_sub, lr_adr2_all, rf_adr2_all, svr_adr2_all]:\n",
    "    print('mean:{0:.5}    std:{1:.5}'.format(np.mean(a), np.std(a)))"
   ]
  },
  {
   "cell_type": "markdown",
   "metadata": {},
   "source": [
    "## statsmodelによる回帰分析"
   ]
  },
  {
   "cell_type": "code",
   "execution_count": 17,
   "metadata": {},
   "outputs": [
    {
     "name": "stdout",
     "output_type": "stream",
     "text": [
      "                            OLS Regression Results                            \n",
      "==============================================================================\n",
      "Dep. Variable:                      y   R-squared:                       0.883\n",
      "Model:                            OLS   Adj. R-squared:                  0.882\n",
      "Method:                 Least Squares   F-statistic:                     2526.\n",
      "Date:                Mon, 26 Nov 2018   Prob (F-statistic):               0.00\n",
      "Time:                        23:46:53   Log-Likelihood:                -36520.\n",
      "No. Observations:                8070   AIC:                         7.309e+04\n",
      "Df Residuals:                    8045   BIC:                         7.326e+04\n",
      "Df Model:                          24                                         \n",
      "Covariance Type:            nonrobust                                         \n",
      "==================================================================================\n",
      "                     coef    std err          t      P>|t|      [0.025      0.975]\n",
      "----------------------------------------------------------------------------------\n",
      "const            142.7134      3.132     45.569      0.000     136.574     148.853\n",
      "distance         -17.3022      0.321    -53.975      0.000     -17.931     -16.674\n",
      "model_year        40.0775      0.358    112.016      0.000      39.376      40.779\n",
      "smartkey          -0.0236      1.171     -0.020      0.984      -2.319       2.271\n",
      "keyless          -14.6718      2.957     -4.961      0.000     -20.469      -8.875\n",
      "record_book       -2.9593      0.531     -5.574      0.000      -4.000      -1.919\n",
      "cruise            10.2470      0.690     14.856      0.000       8.895      11.599\n",
      "parking_assist     0.9137      1.104      0.827      0.408      -1.251       3.078\n",
      "AS_sensor          6.4312      1.105      5.820      0.000       4.265       8.597\n",
      "auto_brake        10.3638      1.100      9.422      0.000       8.208      12.520\n",
      "repare           -14.6883      0.817    -17.968      0.000     -16.291     -13.086\n",
      "camera             3.7511      0.635      5.905      0.000       2.506       4.996\n",
      "navi              -5.8481      0.765     -7.645      0.000      -7.347      -4.349\n",
      "ETC               -2.4290      0.691     -3.516      0.000      -3.783      -1.075\n",
      "sheat_air         45.5911     12.984      3.511      0.000      20.140      71.042\n",
      "sheat_heater      25.3352      1.011     25.050      0.000      23.353      27.318\n",
      "ABS               -2.8860      2.283     -1.264      0.206      -7.362       1.590\n",
      "ESC               -0.5514      0.788     -0.700      0.484      -2.096       0.993\n",
      "anti_theft        -3.0651      0.728     -4.211      0.000      -4.492      -1.638\n",
      "around_camera      9.5346      7.933      1.202      0.229      -6.016      25.085\n",
      "aero              16.2681      1.047     15.532      0.000      14.215      18.321\n",
      "alumi_wheel        2.7430      1.162      2.360      0.018       0.465       5.021\n",
      "lowdown           22.4322      1.110     20.201      0.000      20.255      24.609\n",
      "liftup             6.8567     10.023      0.684      0.494     -12.792      26.505\n",
      "cold_area         12.9011      1.345      9.594      0.000      10.265      15.537\n",
      "==============================================================================\n",
      "Omnibus:                     1209.969   Durbin-Watson:                   1.982\n",
      "Prob(Omnibus):                  0.000   Jarque-Bera (JB):             4350.297\n",
      "Skew:                           0.733   Prob(JB):                         0.00\n",
      "Kurtosis:                       6.284   Cond. No.                         151.\n",
      "==============================================================================\n",
      "\n",
      "Warnings:\n",
      "[1] Standard Errors assume that the covariance matrix of the errors is correctly specified.\n"
     ]
    }
   ],
   "source": [
    "x_sm = sm.add_constant(x_data_df)\n",
    "model = sm.OLS(y, x_sm) \n",
    "results = model.fit()\n",
    "print(results.summary())"
   ]
  },
  {
   "cell_type": "code",
   "execution_count": 18,
   "metadata": {},
   "outputs": [
    {
     "name": "stdout",
     "output_type": "stream",
     "text": [
      "                            OLS Regression Results                            \n",
      "==============================================================================\n",
      "Dep. Variable:                      y   R-squared:                       0.878\n",
      "Model:                            OLS   Adj. R-squared:                  0.878\n",
      "Method:                 Least Squares   F-statistic:                     5791.\n",
      "Date:                Mon, 26 Nov 2018   Prob (F-statistic):               0.00\n",
      "Time:                        23:46:59   Log-Likelihood:                -36688.\n",
      "No. Observations:                8070   AIC:                         7.340e+04\n",
      "Df Residuals:                    8059   BIC:                         7.348e+04\n",
      "Df Model:                          10                                         \n",
      "Covariance Type:            nonrobust                                         \n",
      "================================================================================\n",
      "                   coef    std err          t      P>|t|      [0.025      0.975]\n",
      "--------------------------------------------------------------------------------\n",
      "const          121.1046      0.553    219.193      0.000     120.022     122.188\n",
      "model_year      40.0663      0.351    114.053      0.000      39.378      40.755\n",
      "distance       -17.3005      0.326    -53.136      0.000     -17.939     -16.662\n",
      "lowdown         22.0338      1.130     19.507      0.000      19.820      24.248\n",
      "aero            16.5364      1.067     15.504      0.000      14.446      18.627\n",
      "repare         -14.6507      0.832    -17.604      0.000     -16.282     -13.019\n",
      "cruise          10.7129      0.690     15.536      0.000       9.361      12.065\n",
      "auto_brake      14.4923      0.990     14.633      0.000      12.551      16.434\n",
      "record_book     -4.2196      0.534     -7.905      0.000      -5.266      -3.173\n",
      "sheat_heater    24.9746      1.023     24.423      0.000      22.970      26.979\n",
      "camera           1.2611      0.593      2.126      0.034       0.098       2.424\n",
      "==============================================================================\n",
      "Omnibus:                     1373.771   Durbin-Watson:                   1.990\n",
      "Prob(Omnibus):                  0.000   Jarque-Bera (JB):             4903.483\n",
      "Skew:                           0.835   Prob(JB):                         0.00\n",
      "Kurtosis:                       6.434   Cond. No.                         7.58\n",
      "==============================================================================\n",
      "\n",
      "Warnings:\n",
      "[1] Standard Errors assume that the covariance matrix of the errors is correctly specified.\n"
     ]
    }
   ],
   "source": [
    "x_sm_sub = sm.add_constant(x_data_df.loc[:, v[:10]])\n",
    "model = sm.OLS(y, x_sm_sub) \n",
    "results = model.fit()\n",
    "print(results.summary())"
   ]
  },
  {
   "cell_type": "code",
   "execution_count": null,
   "metadata": {},
   "outputs": [],
   "source": []
  },
  {
   "cell_type": "code",
   "execution_count": null,
   "metadata": {},
   "outputs": [],
   "source": []
  },
  {
   "cell_type": "code",
   "execution_count": null,
   "metadata": {},
   "outputs": [],
   "source": []
  },
  {
   "cell_type": "code",
   "execution_count": null,
   "metadata": {},
   "outputs": [],
   "source": []
  }
 ],
 "metadata": {
  "kernelspec": {
   "display_name": "Python 3",
   "language": "python",
   "name": "python3"
  },
  "language_info": {
   "codemirror_mode": {
    "name": "ipython",
    "version": 3
   },
   "file_extension": ".py",
   "mimetype": "text/x-python",
   "name": "python",
   "nbconvert_exporter": "python",
   "pygments_lexer": "ipython3",
   "version": "3.6.7"
  }
 },
 "nbformat": 4,
 "nbformat_minor": 2
}
