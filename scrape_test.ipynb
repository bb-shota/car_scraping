{
 "cells": [
  {
   "cell_type": "code",
   "execution_count": 2,
   "metadata": {},
   "outputs": [
    {
     "name": "stdout",
     "output_type": "stream",
     "text": [
      "https://gihyo.jp/dp/ebook/2018/978-4-297-10109-1\n",
      "基礎入門 ブレッドボードではじめる マイコンプログラミング\n",
      "\n",
      "\n",
      "https://gihyo.jp/dp/ebook/2018/978-4-297-10013-1\n",
      "大きな字でわかりやすい 大きな字でわかりやすいWindows 10 インターネット入門\n",
      "\n",
      "\n",
      "https://gihyo.jp/dp/ebook/2018/978-4-297-10021-6\n",
      "Bootstrap 4 フロントエンド開発の教科書\n",
      "\n",
      "\n",
      "https://gihyo.jp/dp/ebook/2018/978-4-297-10034-6\n",
      "Docker/Kubernetes 実践コンテナ開発入門\n",
      "\n",
      "\n",
      "https://gihyo.jp/dp/ebook/2018/978-4-7741-9944-3\n",
      "WEB+DB PRESS Vol.106\n",
      "\n",
      "\n",
      "https://gihyo.jp/dp/ebook/2018/978-4-7741-9891-0\n",
      "世界一わかりやすい逆引き事典 世界一わかりやすい Illustrator 逆引き事典 CC対応\n",
      "\n",
      "\n",
      "https://gihyo.jp/dp/ebook/2018/978-4-7741-9889-7\n",
      "世界一わかりやすい逆引き事典 世界一わかりやすい Photoshop 逆引き事典 CC対応\n",
      "\n",
      "\n",
      "https://gihyo.jp/dp/ebook/2018/978-4-7741-9885-9\n",
      "ゼロからはじめる ゼロからはじめるAmazon Echo スマートガイド\n",
      "\n",
      "\n",
      "https://gihyo.jp/dp/ebook/2018/978-4-7741-9883-5\n",
      "今すぐ使えるかんたん 今すぐ使えるかんたん自作パソコン Windows 10対応版［改訂2版］\n",
      "\n",
      "\n",
      "https://gihyo.jp/dp/ebook/2018/978-4-297-10036-0\n",
      "OSSライセンスの教科書\n",
      "\n",
      "\n",
      "https://gihyo.jp/dp/ebook/2018/978-4-297-10053-7\n",
      "もっと速く，快適に！ Wi-Fiを使いこなす本\n",
      "\n",
      "\n",
      "https://gihyo.jp/dp/ebook/2018/978-4-297-10058-2\n",
      "ゼロからはじめる ゼロからはじめるドコモ Xperia XZ2 Compact SO-05K スマートガイド\n",
      "\n",
      "\n",
      "https://gihyo.jp/dp/ebook/2018/978-4-7741-9912-2\n",
      "今すぐ使えるかんたん 今すぐ使えるかんたんぜったいデキます！ デジカメ写真活用術 Windows 10対応版［改訂2版］\n",
      "\n",
      "\n",
      "https://gihyo.jp/dp/ebook/2018/978-4-7741-9937-5\n",
      "Shade3D建築＆インテリア 実践モデリング講座\n",
      "\n",
      "\n",
      "https://gihyo.jp/dp/ebook/2018/978-4-7741-9721-0\n",
      "Software Design 2018年9月号\n",
      "\n",
      "\n",
      "https://gihyo.jp/dp/ebook/2018/978-4-297-10104-6\n",
      "すぐに使えてガンガン集客！ WEBマーケティング123の技\n",
      "\n",
      "\n",
      "https://gihyo.jp/dp/ebook/2018/978-4-297-10103-9\n",
      "らくらく突破 絵とき図解でしっかりわかる［改訂新版］介護福祉士 合格ポイント丸暗記！\n",
      "\n",
      "\n",
      "https://gihyo.jp/dp/ebook/2018/978-4-7741-9917-7\n",
      "数学への招待 「面積」とは何か～幾何・代数・解析の捉え方～\n",
      "\n",
      "\n",
      "https://gihyo.jp/dp/ebook/2018/978-4-7741-9877-4\n",
      "WEB+DB PRESS plus エンジニアの知的生産術――効率的に学び，整理し，アウトプットする\n",
      "\n",
      "\n",
      "https://gihyo.jp/dp/ebook/2018/978-4-7741-9848-4\n",
      "Googleサービス 完全ガイドブック\n",
      "\n",
      "\n",
      "https://gihyo.jp/dp/ebook/2018/978-4-297-10025-4\n",
      "ゼロからはじめる ゼロからはじめるドコモ HUAWEI P20 Pro HW-01K スマートガイド\n",
      "\n",
      "\n",
      "https://gihyo.jp/dp/ebook/2018/978-4-7741-9940-5\n",
      "知識ゼロからの 知識ゼロからのJavaScript入門\n",
      "\n",
      "\n",
      "https://gihyo.jp/dp/ebook/2018/978-4-7741-9881-1\n",
      "作品づくりのためのSONY α7Ⅲ Series &α9プロフェッショナル撮影BOOK\n",
      "\n",
      "\n",
      "https://gihyo.jp/dp/ebook/2018/978-4-297-10029-2\n",
      "ゼロからはじめる ゼロからはじめるau AQUOS R2 SHV42 スマートガイド\n",
      "\n",
      "\n",
      "https://gihyo.jp/dp/ebook/2018/978-4-7741-9875-0\n",
      "問題地図 マネージャーの問題地図～「で、どこから変える？」あれもこれもで、てんやわんやな現場のマネジメント\n",
      "\n",
      "\n",
      "https://gihyo.jp/dp/ebook/2018/978-4-7741-9867-5\n",
      "Graphic voyage 最高に美しい 身近な樹木ビジュアルカタログ―樹形・葉・花・実・季節の変化が一目でわかる\n",
      "\n",
      "\n",
      "https://gihyo.jp/dp/ebook/2018/978-4-7741-9922-1\n",
      "ゾンビ 対 数学―数学なしでは生き残れない\n",
      "\n",
      "\n",
      "https://gihyo.jp/dp/ebook/2018/978-4-7741-9887-3\n",
      "今すぐ使えるかんたん 今すぐ使えるかんたんぜったいデキます！ LINE超入門［改訂2版］\n",
      "\n",
      "\n",
      "https://gihyo.jp/dp/ebook/2018/978-4-297-10068-1\n",
      "賃貸不動産経営管理士 合格教本\n",
      "\n",
      "\n",
      "https://gihyo.jp/dp/ebook/2018/978-4-297-10027-8\n",
      "ゼロからはじめる ゼロからはじめるドコモ AQUOS R2 SH-03K スマートガイド\n",
      "\n",
      "\n"
     ]
    }
   ],
   "source": [
    "import lxml.html\n",
    "import requests\n",
    "\n",
    "response = requests.get(\"https://gihyo.jp/dp\")\n",
    "root = lxml.html.fromstring(response.content)\n",
    "root.make_links_absolute(response.url)\n",
    "urls = root.cssselect('#listBook a[itemprop=\"url\"]')\n",
    "names = root.cssselect('#listBook p[itemprop=\"name\"]')\n",
    "\n",
    "for url, name in zip(urls, names):\n",
    "    u = url.get(\"href\")\n",
    "    n = name.text_content()\n",
    "    print(u)\n",
    "    print(n)\n",
    "    print(\"\\n\")"
   ]
  },
  {
   "cell_type": "code",
   "execution_count": 10,
   "metadata": {},
   "outputs": [],
   "source": [
    "import lxml.html\n",
    "import requests\n",
    "import re\n",
    "from pymongo import MongoClient\n",
    "import time"
   ]
  },
  {
   "cell_type": "code",
   "execution_count": 43,
   "metadata": {},
   "outputs": [],
   "source": [
    "def main():\n",
    "    VezelURL = 'https://www.carsensor.net/usedcar/bHO/s101/optREP1/index.html'\n",
    "    total_list_num = get_lastpage_num(VezelURL)\n",
    "    \n",
    "    client = MongoClient()\n",
    "    db = client['CARSENSOR']\n",
    "    collection = db['HONDA_vezel']\n",
    "    collection.delete_many({})\n",
    "    \n",
    "    for i in range(1, total_list_num + 1):\n",
    "        listpage_url = VezelURL.replace('index', 'index' + str(59))\n",
    "        urls = scrape_list_page(listpage_url)\n",
    "        collect_insert(urls, collection)\n",
    "        break\n"
   ]
  },
  {
   "cell_type": "code",
   "execution_count": 44,
   "metadata": {},
   "outputs": [],
   "source": [
    "def collect_insert(urls, collection):\n",
    "    \"\"\"\n",
    "    指定したリストページ内の詳細ページをスクレイピングし、DBに格納\n",
    "    input:\n",
    "        - urls: generator object, 詳細ページのurlを生成するgenerator\n",
    "        - collection: mongodb collection object\n",
    "    output: None\n",
    "    \"\"\"\n",
    "    for url in urls:\n",
    "        key = extract_key(url)\n",
    "        print(key)\n",
    "        key_check = collection.find_one({'key': key})\n",
    "        if not key_check:\n",
    "            usedcar = scrape_detail_page(url, key)\n",
    "            print(usedcar)\n",
    "#             collection.insert_one(usedcar)\n",
    "            time.sleep(1)"
   ]
  },
  {
   "cell_type": "code",
   "execution_count": 37,
   "metadata": {},
   "outputs": [],
   "source": [
    "def get_lastpage_num(url):\n",
    "    \"\"\"\n",
    "    リストページのhtmlからリストページの総数を取得して返す\n",
    "    intput:\n",
    "        - url: str\n",
    "    output:\n",
    "        - last_num: int, リストページ数\n",
    "    \"\"\"\n",
    "    response = requests.get(url)\n",
    "    root = lxml.html.fromstring(response.content)\n",
    "    # 最後のlistページのurlを取得する\n",
    "    last_page = root.cssselect('#js-resultBar > div.resultBar__link > div > div.pager__text > a:nth-child(12)')[0]\n",
    "    # urlから最後のindex番号を取得する\n",
    "    last_index = last_page.get('href').split(\"/\")[-1]\n",
    "    m = re.search('index([0-9]+)', last_index)\n",
    "    # re.search()でマッチしなかった場合のエラー処理\n",
    "    if m is None:\n",
    "        raise ValueError('index.html of last page is not found')\n",
    "    last_num = int(m.group(1))\n",
    "    return last_num"
   ]
  },
  {
   "cell_type": "code",
   "execution_count": 38,
   "metadata": {},
   "outputs": [],
   "source": [
    "def scrape_list_page(url):\n",
    "    \"\"\"\n",
    "    リストページから詳細ページのurlを取得し、生成する(generator object)\n",
    "    input:\n",
    "        - url: str, リストページのurl\n",
    "    output:\n",
    "        generator object, 詳細ページのurlを生成する\n",
    "    \"\"\"\n",
    "    # webページ読み込み、response.contentから文字列を取得してパース\n",
    "    response = requests.get(url)\n",
    "    root = lxml.html.fromstring(response.content)\n",
    "    # 全てのurlを絶対urlに変換\n",
    "    root.make_links_absolute(response.url)\n",
    "    htmlElems = root.cssselect('#carList h3[class=\"casetMedia__body__title\"] > a')\n",
    "    for elem in htmlElems:\n",
    "        url = elem.get('href')\n",
    "        yield url"
   ]
  },
  {
   "cell_type": "code",
   "execution_count": 39,
   "metadata": {},
   "outputs": [],
   "source": [
    "def scrape_detail_page(url, key):\n",
    "    \"\"\"\n",
    "    詳細ページから各種情報を取得し、dictで返す\n",
    "    input:\n",
    "        - url: str, 詳細ページのurl\n",
    "    output:\n",
    "        - usedcar: dict, dbに格納するドキュメント\n",
    "    \"\"\"\n",
    "    response = requests.get(url)\n",
    "    root = lxml.html.fromstring(response.content)\n",
    "    # 本体価格\n",
    "    base_price = root.cssselect('body > div.page > div:nth-child(6) > main > section > div > div.column__sub > div.priceWrap > div.basePrice > p.basePrice__price')\n",
    "    base_price = base_price[0].get('content').replace(',', '')\n",
    "    base_price = int(base_price)\n",
    "    # 支払総額\n",
    "    total_price = root.cssselect('body > div.page > div:nth-child(6) > main > section > div > div.column__sub > div.priceWrap > div.totalPrice > p.totalPrice__price')\n",
    "    total_price = total_price[0].text_content()\n",
    "    total_price = re.sub(r'\\n(\\t)+', '', total_price).replace('万円', '')\n",
    "    try:\n",
    "        total_price = int(float(total_price) * 10000)\n",
    "    except ValueError:\n",
    "        total_price = None\n",
    "    # 年式\n",
    "    model_year = root.cssselect('body > div.page > div:nth-child(6) > main > section > div > div.column__sub > div.specWrap > div:nth-child(1) > p.specWrap__box__num')\n",
    "    model_year = model_year[0].text\n",
    "    model_year = int(model_year)\n",
    "    # 走行距離\n",
    "    distance = root.cssselect('body > div.page > div:nth-child(6) > main > section > div > div.column__sub > div.specWrap > div:nth-child(2)')\n",
    "    distance = distance[0].text_content()\n",
    "    distance = re.sub(r'\\n(\\t)+', '', distance).strip().replace('走行距離', '')\n",
    "    if '万' in distance:\n",
    "        distance = distance.replace('万km', '')\n",
    "        distance = float(distance)\n",
    "    else:\n",
    "        distance = distance.replace('km', '')\n",
    "        try:\n",
    "            distance = float(distance) / 10000\n",
    "        except ValueError:\n",
    "            distance = None\n",
    "#     distance = float(distance)\n",
    "    # 車検\n",
    "    inspection = root.cssselect('body > div.page > div:nth-child(6) > main > section > div > div.column__sub > div.specWrap > div:nth-child(3)')\n",
    "    inspection = inspection[0].text_content()\n",
    "    inspection = re.sub(r'\\n(\\t)+', '', inspection).replace('車検有無', '')\n",
    "    # 修復歴\n",
    "    repare = root.cssselect('body > div.page > div:nth-child(6) > main > section > div > div.column__sub > div.specWrap > div:nth-child(4) > p:nth-child(2)')\n",
    "    repare = repare[0].text\n",
    "    # 本体情報等\n",
    "    info = root.cssselect('body > div.page > div:nth-child(6) > main > section > h2 > span')\n",
    "    info = info[0].text\n",
    "    info = info.replace('\\u3000', ' ').replace('\\xa0', ' ')\n",
    "    # リサイクル料\n",
    "    recycle = root.cssselect('body > div.page > div:nth-child(8) > div > div.column__main > section:nth-child(2) > div > table > tbody > tr:nth-child(6) > td:nth-child(2)')\n",
    "    recycle = recycle[0].text\n",
    "    # 法定整備\n",
    "    legal_maintenance = root.cssselect('body > div.page > div:nth-child(8) > div > div.column__main > section:nth-child(2) > div > table > tbody > tr:nth-child(9) > td > p')\n",
    "    legal_maintenance = legal_maintenance[0].text\n",
    "    # 保証\n",
    "    warranty = root.cssselect('body > div.page > div:nth-child(8) > div > div.column__main > section:nth-child(2) > div > table > tbody > tr:nth-child(10) > td > p')\n",
    "    warranty = warranty[0].text\n",
    "    warranty = warranty.replace('\\u3000', ' ')\n",
    "    # ワンオーナー\n",
    "    one_owner = root.cssselect('body > div.page > div:nth-child(8) > div > div.column__main > section:nth-child(2) > div > table > tbody > tr:nth-child(1) > td:nth-child(4)')\n",
    "    one_owner = one_owner[0].text\n",
    "    if one_owner == '◯':\n",
    "        one_owner = 1\n",
    "    else:\n",
    "        one_owner = 0\n",
    "    # 定期点検記録母\n",
    "    record_book = root.cssselect('body > div.page > div:nth-child(8) > div > div.column__main > section:nth-child(2) > div > table > tbody > tr:nth-child(4) > td:nth-child(2)')\n",
    "    record_book = record_book[0].text\n",
    "    if record_book == '◯':\n",
    "        record_book = 1\n",
    "    else:\n",
    "        record_book = 0\n",
    "    # 禁煙車\n",
    "    no_smoke = root.cssselect('body > div.page > div:nth-child(8) > div > div.column__main > section:nth-child(2) > div > table > tbody > tr:nth-child(5) > td:nth-child(2)')\n",
    "    no_smoke = no_smoke[0].text\n",
    "    if no_smoke == '◯':\n",
    "        no_smoke = 1\n",
    "    else:\n",
    "        no_smoke = 0\n",
    "\n",
    "    region = root.cssselect('body > div.page > div:nth-child(6) > main > section > div > div.column__sub > div.specWrap > div:nth-child(5) > p:nth-child(2)')\n",
    "    region = region[0].text\n",
    "\n",
    "    usedcar = {\n",
    "        'url': response.url,\n",
    "        'base_price': base_price,\n",
    "        'total_price': total_price,\n",
    "        'model_year': model_year,\n",
    "        'distance': distance,\n",
    "        'inspection': inspection,\n",
    "        'info': normalize_spaces(info),\n",
    "        'recycle': recycle,\n",
    "        'legal_maintenance': legal_maintenance,\n",
    "        'warranty': warranty,\n",
    "        'one_owner': one_owner,\n",
    "        'record_book': record_book,\n",
    "        'no_smoke': no_smoke,\n",
    "        'key': key,\n",
    "        'region': region\n",
    "    }\n",
    "    return usedcar"
   ]
  },
  {
   "cell_type": "code",
   "execution_count": 40,
   "metadata": {},
   "outputs": [],
   "source": [
    "def normalize_spaces(s):\n",
    "    \"\"\"\n",
    "    文字列内の連続する空白を一つにし、前後の空白を削除する\n",
    "    input:\n",
    "        - s: str\n",
    "    output: str\n",
    "    \"\"\"\n",
    "    return re.sub(r'\\s+', ' ', s).strip()"
   ]
  },
  {
   "cell_type": "code",
   "execution_count": 41,
   "metadata": {},
   "outputs": [],
   "source": [
    "def extract_key(url):\n",
    "    \"\"\"\n",
    "    詳細ページのurlからキーを取得し、返す\n",
    "    input:\n",
    "        - url: str, 詳細ページのurl\n",
    "    output: str\n",
    "    \"\"\"\n",
    "    key = url.split('/')[-2]\n",
    "    if not key.startswith('CU'):\n",
    "        raise ValueError('key extract error, detail url is wrong')\n",
    "    return key"
   ]
  },
  {
   "cell_type": "code",
   "execution_count": 42,
   "metadata": {},
   "outputs": [
    {
     "name": "stdout",
     "output_type": "stream",
     "text": [
      "https://www.carsensor.net/usedcar/bHO/s101/optREP1/index59.html\n",
      "CU8163335937\n",
      "{'url': 'https://www.carsensor.net/usedcar/detail/CU8163335937/index.html?TRCD=200002', 'base_price': 1768000, 'total_price': None, 'model_year': 2016, 'distance': 1.1, 'inspection': '2019(H31)年11月', 'info': '1.5 X ホンダセンシング 純正ナビ バックカメラ （ブラックメタ）', 'recycle': 'リ済別', 'legal_maintenance': '法定整備無', 'warranty': '保証付：販売店保証 保証期間：3ヵ月 保証距離：無制限', 'one_owner': 1, 'record_book': 0, 'no_smoke': 0, 'key': 'CU8163335937', 'region': '東京都'}\n",
      "CU8620974004\n",
      "{'url': 'https://www.carsensor.net/usedcar/detail/CU8620974004/index.html?TRCD=200002', 'base_price': 2259000, 'total_price': None, 'model_year': 2016, 'distance': 1.2, 'inspection': '車検整備別', 'info': '1.5 ハイブリッド Z ホンダセンシング 純正SDナビ （クリスタルブラック・パール）', 'recycle': 'リ済別', 'legal_maintenance': '法定整備別\\u3000費用：39,636円', 'warranty': '保証付：販売店保証 保証期間：3ヵ月 保証距離：3,000km', 'one_owner': 0, 'record_book': 0, 'no_smoke': 0, 'key': 'CU8620974004', 'region': '愛知県'}\n",
      "CU8368651075\n",
      "{'url': 'https://www.carsensor.net/usedcar/detail/CU8368651075/index.html?TRCD=200002', 'base_price': 2791000, 'total_price': None, 'model_year': 2016, 'distance': 1.8, 'inspection': '2019(H31)年11月', 'info': '1.5 ハイブリッド Z ホンダセンシング 4WD Zホンダセンシング ワンオーナー （ホワイト）', 'recycle': 'リ済別', 'legal_maintenance': '法定整備無', 'warranty': '保証付：販売店保証 保証期間：3ヵ月 保証距離：無制限', 'one_owner': 1, 'record_book': 0, 'no_smoke': 0, 'key': 'CU8368651075', 'region': '岩手県'}\n",
      "CU8490052262\n",
      "{'url': 'https://www.carsensor.net/usedcar/detail/CU8490052262/index.html?TRCD=200002', 'base_price': 2258000, 'total_price': 2387000, 'model_year': 2016, 'distance': 2.6, 'inspection': '2019(H31)年10月', 'info': '1.5 ハイブリッド Z ホンダセンシング センシング （レッド）', 'recycle': 'リ済別', 'legal_maintenance': '法定整備付', 'warranty': '保証付：ディーラー保証 保証期間：1年 保証距離：無制限', 'one_owner': 1, 'record_book': 1, 'no_smoke': 0, 'key': 'CU8490052262', 'region': '静岡県'}\n",
      "CU7571648963\n",
      "{'url': 'https://www.carsensor.net/usedcar/detail/CU7571648963/index.html?TRCD=200002', 'base_price': 1990000, 'total_price': None, 'model_year': 2016, 'distance': 0.7, 'inspection': '車検整備別', 'info': '1.5 S 純正ナビ TV バックカメラ スマートキー （シルバー）', 'recycle': 'リ済別', 'legal_maintenance': '法定整備別\\u3000費用：60,000円', 'warranty': '保証付：販売店保証 保証期間：3ヵ月 保証距離：無制限', 'one_owner': 0, 'record_book': 0, 'no_smoke': 0, 'key': 'CU7571648963', 'region': '沖縄県'}\n",
      "CU8324293500\n",
      "{'url': 'https://www.carsensor.net/usedcar/detail/CU8324293500/index.html?TRCD=200002', 'base_price': 2199000, 'total_price': None, 'model_year': 2016, 'distance': 0.2, 'inspection': '2019(H31)年10月', 'info': '1.5 ハイブリッド Z ホンダセンシング 純正ナビTV （ホワイトオーキッド・パール）', 'recycle': 'リ済別', 'legal_maintenance': '法定整備別\\u3000費用：39,636円', 'warranty': '保証付：販売店保証 保証期間：3ヵ月 保証距離：3,000km', 'one_owner': 0, 'record_book': 1, 'no_smoke': 1, 'key': 'CU8324293500', 'region': '兵庫県'}\n",
      "CU8467461389\n",
      "{'url': 'https://www.carsensor.net/usedcar/detail/CU8467461389/index.html?TRCD=200002', 'base_price': 2390000, 'total_price': None, 'model_year': 2016, 'distance': 1.7, 'inspection': '2019(H31)年10月', 'info': '1.5 ハイブリッド Z ホンダセンシング （パールホワイト）', 'recycle': 'リ済別', 'legal_maintenance': '法定整備付', 'warranty': '保証無(有償保証あり)：販売店保証', 'one_owner': 0, 'record_book': 0, 'no_smoke': 1, 'key': 'CU8467461389', 'region': '大分県'}\n",
      "CU8639900932\n",
      "{'url': 'https://www.carsensor.net/usedcar/detail/CU8639900932/index.html?TRCD=200002', 'base_price': 1848000, 'total_price': 1954000, 'model_year': 2016, 'distance': 2.0, 'inspection': '2019(H31)年9月', 'info': '1.5 X ホンダセンシング HondaSENSING ナビ LED （プレミアムクリスタルレッドメタリック）', 'recycle': 'リ済別', 'legal_maintenance': '法定整備付', 'warranty': '保証付：ディーラー保証 保証期間：1年 保証距離：無制限', 'one_owner': 1, 'record_book': 1, 'no_smoke': 1, 'key': 'CU8639900932', 'region': '静岡県'}\n",
      "CU8444484219\n",
      "{'url': 'https://www.carsensor.net/usedcar/detail/CU8444484219/index.html?TRCD=200002', 'base_price': 2450000, 'total_price': 2564000, 'model_year': 2016, 'distance': 0.9, 'inspection': '2019(H31)年9月', 'info': '1.5 ハイブリッド RS ホンダセンシング ワンオーナー車 （ホワイトパール）', 'recycle': 'リ済別', 'legal_maintenance': '法定整備付', 'warranty': '保証付：ディーラー保証 保証期間：1年 保証距離：無制限', 'one_owner': 1, 'record_book': 0, 'no_smoke': 0, 'key': 'CU8444484219', 'region': '奈良県'}\n",
      "CU8624552703\n",
      "{'url': 'https://www.carsensor.net/usedcar/detail/CU8624552703/index.html?TRCD=200002', 'base_price': 1944000, 'total_price': None, 'model_year': 2016, 'distance': 1.9, 'inspection': '2019(H31)年9月', 'info': '1.5 X ホンダセンシング 8型フルセグナビ （プレミアムクリスタルレッドメタリック）', 'recycle': 'リ済別', 'legal_maintenance': '法定整備別\\u3000費用：10,800円', 'warranty': '保証無(有償保証あり)：販売店保証', 'one_owner': 0, 'record_book': 0, 'no_smoke': 0, 'key': 'CU8624552703', 'region': '福岡県'}\n",
      "CU8127562578\n",
      "{'url': 'https://www.carsensor.net/usedcar/detail/CU8127562578/index.html?TRCD=200002', 'base_price': 1998000, 'total_price': None, 'model_year': 2016, 'distance': 1.0, 'inspection': '2019(H31)年9月', 'info': '1.5 ハイブリッド X ホンダセンシング ETC （ブラウン）', 'recycle': 'リ済別', 'legal_maintenance': '法定整備付', 'warranty': '保証付：ディーラー保証 保証期間：1年 保証距離：無制限', 'one_owner': 0, 'record_book': 0, 'no_smoke': 0, 'key': 'CU8127562578', 'region': '岡山県'}\n",
      "CU8115876900\n",
      "{'url': 'https://www.carsensor.net/usedcar/detail/CU8115876900/index.html?TRCD=200002', 'base_price': 2089000, 'total_price': None, 'model_year': 2016, 'distance': 1.0, 'inspection': '2019(H31)年9月', 'info': '1.5 RS ホンダセンシング メモリーナビ・Bカメラ （ブルー）', 'recycle': 'リ済別', 'legal_maintenance': '法定整備無', 'warranty': '保証付：販売店保証 保証期間：3ヵ月 保証距離：無制限', 'one_owner': 0, 'record_book': 0, 'no_smoke': 0, 'key': 'CU8115876900', 'region': '群馬県'}\n",
      "CU8199117977\n",
      "{'url': 'https://www.carsensor.net/usedcar/detail/CU8199117977/index.html?TRCD=200002', 'base_price': 2188000, 'total_price': None, 'model_year': 2016, 'distance': 1.6, 'inspection': '2019(H31)年9月', 'info': '1.5 X ホンダセンシング 4WD ワンオーナー禁煙車 （パールホワイト）', 'recycle': 'リ済別', 'legal_maintenance': '法定整備別\\u3000費用：21,600円', 'warranty': '保証付：販売店保証 保証期限：2021年9月 保証距離：100,000km', 'one_owner': 1, 'record_book': 0, 'no_smoke': 1, 'key': 'CU8199117977', 'region': '秋田県'}\n",
      "CU8057407444\n",
      "{'url': 'https://www.carsensor.net/usedcar/detail/CU8057407444/index.html?TRCD=200002', 'base_price': 2190000, 'total_price': None, 'model_year': 2016, 'distance': 0.0013, 'inspection': '2019(H31)年9月', 'info': '1.5 X あんしんパッケージ （シルバー）', 'recycle': 'リ済別', 'legal_maintenance': '法定整備別\\u3000費用：60,000円', 'warranty': '保証付：販売店保証 保証期間：3ヵ月 保証距離：無制限', 'one_owner': 0, 'record_book': 0, 'no_smoke': 0, 'key': 'CU8057407444', 'region': '沖縄県'}\n",
      "CU8455476241\n",
      "{'url': 'https://www.carsensor.net/usedcar/detail/CU8455476241/index.html?TRCD=200002', 'base_price': 2238000, 'total_price': None, 'model_year': 2016, 'distance': 2.6, 'inspection': '2019(H31)年9月', 'info': '1.5 ハイブリッド Z ホンダセンシング 純正ナビ Bカメ LED Bluetooth フルセグ （ルーセブラック・メタリック）', 'recycle': 'リ済別', 'legal_maintenance': '法定整備別\\u3000費用：32,400円', 'warranty': '保証無', 'one_owner': 0, 'record_book': 0, 'no_smoke': 0, 'key': 'CU8455476241', 'region': '広島県'}\n",
      "CU8412805674\n",
      "{'url': 'https://www.carsensor.net/usedcar/detail/CU8412805674/index.html?TRCD=200002', 'base_price': 2258000, 'total_price': None, 'model_year': 2016, 'distance': 1.6, 'inspection': '2019(H31)年9月', 'info': '1.5 ハイブリッド Z ホンダセンシング 純正メモリーナビ フルセグTV （ブルー）', 'recycle': 'リ済別', 'legal_maintenance': '法定整備無', 'warranty': '保証付：販売店保証 保証期間：3ヵ月 保証距離：無制限', 'one_owner': 1, 'record_book': 0, 'no_smoke': 0, 'key': 'CU8412805674', 'region': '静岡県'}\n",
      "CU8461006762\n",
      "{'url': 'https://www.carsensor.net/usedcar/detail/CU8461006762/index.html?TRCD=200002', 'base_price': 2499000, 'total_price': None, 'model_year': 2016, 'distance': 0.9, 'inspection': '2019(H31)年9月', 'info': '1.5 ハイブリッド X ホンダセンシング 4WD 禁煙車 （パールホワイト）', 'recycle': 'リ済別', 'legal_maintenance': '法定整備別\\u3000費用：48,600円', 'warranty': '保証付：販売店保証 保証期間：4ヵ月 保証距離：3,000km', 'one_owner': 0, 'record_book': 0, 'no_smoke': 1, 'key': 'CU8461006762', 'region': '北海道'}\n",
      "CU8514464357\n",
      "{'url': 'https://www.carsensor.net/usedcar/detail/CU8514464357/index.html?TRCD=200002', 'base_price': 2222000, 'total_price': None, 'model_year': 2016, 'distance': 2.9, 'inspection': '2019(H31)年8月', 'info': 'Ｚ ホンダセンシング 4WD 修復歴無し （ダークブルー）', 'recycle': 'リ済別', 'legal_maintenance': '法定整備無', 'warranty': '保証付：販売店保証 保証期間：3ヵ月 保証距離：無制限', 'one_owner': 0, 'record_book': 0, 'no_smoke': 0, 'key': 'CU8514464357', 'region': '岩手県'}\n",
      "CU8218605334\n",
      "{'url': 'https://www.carsensor.net/usedcar/detail/CU8218605334/index.html?TRCD=200002', 'base_price': 2241000, 'total_price': None, 'model_year': 2016, 'distance': 2.5, 'inspection': '2019(H31)年8月', 'info': '1.5 ハイブリッド Z ホンダセンシング 4WD スマートキーレーダークルーズコントロール （ホワイト）', 'recycle': 'リ済別', 'legal_maintenance': '法定整備無', 'warranty': '保証付：販売店保証 保証期間：3ヵ月 保証距離：無制限', 'one_owner': 0, 'record_book': 0, 'no_smoke': 0, 'key': 'CU8218605334', 'region': '岩手県'}\n"
     ]
    },
    {
     "name": "stdout",
     "output_type": "stream",
     "text": [
      "CU6702476362\n",
      "{'url': 'https://www.carsensor.net/usedcar/detail/CU6702476362/index.html?TRCD=200002', 'base_price': 2390000, 'total_price': None, 'model_year': 2016, 'distance': 0.8, 'inspection': '2019(H31)年8月', 'info': '1.5 ハイブリッド RS ホンダセンシング 純正ナビ （ブラック）', 'recycle': 'リ済別', 'legal_maintenance': '法定整備無', 'warranty': '保証無', 'one_owner': 0, 'record_book': 0, 'no_smoke': 0, 'key': 'CU6702476362', 'region': '福岡県'}\n",
      "CU7293083933\n",
      "{'url': 'https://www.carsensor.net/usedcar/detail/CU7293083933/index.html?TRCD=200002', 'base_price': 2398000, 'total_price': None, 'model_year': 2016, 'distance': 1.8, 'inspection': '2019(H31)年8月', 'info': '1.5 ハイブリッド Z シティブレーキ ナビ/TV （ホワイトオーキッド・パール）', 'recycle': 'リ済別', 'legal_maintenance': '法定整備別\\u3000費用：38,800円', 'warranty': '保証付：販売店保証 保証期間：1ヵ月 保証距離：1,000km', 'one_owner': 0, 'record_book': 1, 'no_smoke': 0, 'key': 'CU7293083933', 'region': '熊本県'}\n",
      "CU8546052371\n",
      "{'url': 'https://www.carsensor.net/usedcar/detail/CU8546052371/index.html?TRCD=200002', 'base_price': 2203000, 'total_price': 2302000, 'model_year': 2016, 'distance': 1.1, 'inspection': '2019(H31)年7月', 'info': '1.5 ハイブリッド Z ホンダセンシング （ブルーパール）', 'recycle': 'リ済別', 'legal_maintenance': '法定整備付', 'warranty': '保証付：ディーラー保証 保証期間：1年 保証距離：無制限', 'one_owner': 1, 'record_book': 1, 'no_smoke': 0, 'key': 'CU8546052371', 'region': '宮城県'}\n",
      "CU7893324459\n",
      "{'url': 'https://www.carsensor.net/usedcar/detail/CU7893324459/index.html?TRCD=200002', 'base_price': 2298000, 'total_price': 2406000, 'model_year': 2016, 'distance': 0.7, 'inspection': '2019(H31)年7月', 'info': '1.5 ハイブリッド RS ホンダセンシング （メタリックレッド）', 'recycle': 'リ済別', 'legal_maintenance': '法定整備付', 'warranty': '保証付：ディーラー保証 保証期間：1年 保証距離：無制限', 'one_owner': 1, 'record_book': 0, 'no_smoke': 0, 'key': 'CU7893324459', 'region': '宮城県'}\n",
      "CU8507543813\n",
      "{'url': 'https://www.carsensor.net/usedcar/detail/CU8507543813/index.html?TRCD=200002', 'base_price': 1599000, 'total_price': None, 'model_year': 2016, 'distance': 1.2, 'inspection': '2019(H31)年2月', 'info': '1.5 RS ホンダセンシング 8インチナビ地デジBカメラ （ブラック）', 'recycle': 'リ済別', 'legal_maintenance': '法定整備付', 'warranty': '保証無(有償保証あり)：販売店保証', 'one_owner': 0, 'record_book': 1, 'no_smoke': 1, 'key': 'CU8507543813', 'region': '神奈川県'}\n",
      "CU8255038974\n",
      "{'url': 'https://www.carsensor.net/usedcar/detail/CU8255038974/index.html?TRCD=200002', 'base_price': 1759000, 'total_price': None, 'model_year': 2016, 'distance': 5.2, 'inspection': '車検整備別', 'info': '1.5 ハイブリッド 4WD ナビ装着SPパケSDナビETC （クリスタルブラック）', 'recycle': 'リ済別', 'legal_maintenance': '法定整備別\\u3000費用：43,200円', 'warranty': '保証付：販売店保証 保証期間：12ヵ月 保証距離：無制限', 'one_owner': 0, 'record_book': 0, 'no_smoke': 0, 'key': 'CU8255038974', 'region': '富山県'}\n",
      "CU8553093848\n",
      "{'url': 'https://www.carsensor.net/usedcar/detail/CU8553093848/index.html?TRCD=200002', 'base_price': 2200000, 'total_price': None, 'model_year': 2016, 'distance': 3.7, 'inspection': '2019(H31)年7月', 'info': '1.5 ハイブリッド Z ホンダセンシング メモリナビ （ブルーパール）', 'recycle': 'リ済別', 'legal_maintenance': '法定整備付', 'warranty': '保証付：ディーラー保証 保証期間：1年 保証距離：無制限', 'one_owner': 0, 'record_book': 1, 'no_smoke': 0, 'key': 'CU8553093848', 'region': '鹿児島県'}\n",
      "CU8642612857\n",
      "{'url': 'https://www.carsensor.net/usedcar/detail/CU8642612857/index.html?TRCD=200002', 'base_price': 2378000, 'total_price': None, 'model_year': 2016, 'distance': 1.5, 'inspection': '2019(H31)年7月', 'info': 'X ホンダセンシング ワンオーナー 修復歴無し （ブラックメタ）', 'recycle': 'リ済別', 'legal_maintenance': '法定整備無', 'warranty': '保証付：販売店保証 保証期間：10年 保証距離：無制限', 'one_owner': 1, 'record_book': 0, 'no_smoke': 0, 'key': 'CU8642612857', 'region': '福岡県'}\n",
      "CU7373112811\n",
      "{'url': 'https://www.carsensor.net/usedcar/detail/CU7373112811/index.html?TRCD=200002', 'base_price': 1948000, 'total_price': 2090000, 'model_year': 2016, 'distance': 2.6, 'inspection': '2019(H31)年6月', 'info': '1.5 ハイブリッド X ホンダセンシング 純正ナビ ETC （レッド）', 'recycle': 'リ済別＋リ追', 'legal_maintenance': '法定整備無', 'warranty': '保証付：販売店保証 保証期間：3ヵ月 保証距離：3,000km', 'one_owner': 0, 'record_book': 1, 'no_smoke': 0, 'key': 'CU7373112811', 'region': '奈良県'}\n",
      "CU7559048453\n",
      "{'url': 'https://www.carsensor.net/usedcar/detail/CU7559048453/index.html?TRCD=200002', 'base_price': 2750000, 'total_price': 2870000, 'model_year': 2016, 'distance': 0.3, 'inspection': '2019(H31)年6月', 'info': '1.5 ハイブリッド Z ホンダセンシング メモリーナビ （ホワイトパール）', 'recycle': 'リ済別', 'legal_maintenance': '法定整備付', 'warranty': '保証付：ディーラー保証 保証期間：1年 保証距離：無制限', 'one_owner': 0, 'record_book': 0, 'no_smoke': 0, 'key': 'CU7559048453', 'region': '徳島県'}\n",
      "CU7471959104\n",
      "{'url': 'https://www.carsensor.net/usedcar/detail/CU7471959104/index.html?TRCD=200002', 'base_price': 1950000, 'total_price': None, 'model_year': 2016, 'distance': 2.4, 'inspection': '2019(H31)年6月', 'info': '1.5 X ホンダセンシング ナビ装着用PKG （ブラック）', 'recycle': 'リ未', 'legal_maintenance': '法定整備付', 'warranty': '保証付：販売店保証 保証期間：6ヵ月 保証距離：5,000km', 'one_owner': 0, 'record_book': 0, 'no_smoke': 0, 'key': 'CU7471959104', 'region': '鹿児島県'}\n"
     ]
    }
   ],
   "source": [
    "main()"
   ]
  },
  {
   "cell_type": "code",
   "execution_count": 90,
   "metadata": {},
   "outputs": [
    {
     "ename": "ValueError",
     "evalue": "could not convert string to float: '---'",
     "output_type": "error",
     "traceback": [
      "\u001b[1;31m---------------------------------------------------------------------------\u001b[0m",
      "\u001b[1;31mValueError\u001b[0m                                Traceback (most recent call last)",
      "\u001b[1;32m<ipython-input-90-acde9fe8f2ea>\u001b[0m in \u001b[0;36m<module>\u001b[1;34m()\u001b[0m\n\u001b[1;32m----> 1\u001b[1;33m \u001b[0ma\u001b[0m \u001b[1;33m=\u001b[0m \u001b[0mfloat\u001b[0m\u001b[1;33m(\u001b[0m\u001b[1;34m'---'\u001b[0m\u001b[1;33m)\u001b[0m\u001b[1;33m\u001b[0m\u001b[0m\n\u001b[0m\u001b[0;32m      2\u001b[0m \u001b[0ma\u001b[0m \u001b[1;33m*=\u001b[0m \u001b[1;36m10000\u001b[0m\u001b[1;33m\u001b[0m\u001b[0m\n\u001b[0;32m      3\u001b[0m \u001b[0mint\u001b[0m\u001b[1;33m(\u001b[0m\u001b[0ma\u001b[0m\u001b[1;33m)\u001b[0m\u001b[1;33m\u001b[0m\u001b[0m\n",
      "\u001b[1;31mValueError\u001b[0m: could not convert string to float: '---'"
     ]
    }
   ],
   "source": [
    "a = float('---')\n",
    "a *= 10000\n",
    "int(a)"
   ]
  },
  {
   "cell_type": "code",
   "execution_count": 22,
   "metadata": {},
   "outputs": [
    {
     "name": "stdout",
     "output_type": "stream",
     "text": [
      "\n",
      "\t\t\t\t\t\t\t\t車検有無\n",
      "\t\t\t\t\t\t\t\t2021(H33)\n",
      "\t\t\t\t\t\t\t\t年7月\n",
      "\t\t\t\t\t\t\t\n"
     ]
    },
    {
     "data": {
      "text/plain": [
       "'2021(H33)年7月'"
      ]
     },
     "execution_count": 22,
     "metadata": {},
     "output_type": "execute_result"
    }
   ],
   "source": [
    "t = '\\n\\t\\t\\t\\t\\t\\t\\t\\t車検有無\\n\\t\\t\\t\\t\\t\\t\\t\\t2021(H33)\\n\\t\\t\\t\\t\\t\\t\\t\\t年7月\\n\\t\\t\\t\\t\\t\\t\\t'\n",
    "print(t)\n",
    "t2 = re.sub(r'\\n(\\t)+', '', t)\n",
    "t2.replace('車検有無', '')"
   ]
  },
  {
   "cell_type": "code",
   "execution_count": null,
   "metadata": {},
   "outputs": [],
   "source": []
  },
  {
   "cell_type": "code",
   "execution_count": null,
   "metadata": {},
   "outputs": [],
   "source": []
  },
  {
   "cell_type": "code",
   "execution_count": 1,
   "metadata": {},
   "outputs": [],
   "source": [
    "from pymongo import MongoClient\n",
    "client = MongoClient()"
   ]
  },
  {
   "cell_type": "code",
   "execution_count": 2,
   "metadata": {},
   "outputs": [],
   "source": [
    "db = client.test"
   ]
  },
  {
   "cell_type": "code",
   "execution_count": 3,
   "metadata": {},
   "outputs": [],
   "source": [
    "collection = db.spots"
   ]
  },
  {
   "cell_type": "code",
   "execution_count": 4,
   "metadata": {},
   "outputs": [
    {
     "data": {
      "text/plain": [
       "<pymongo.results.InsertOneResult at 0x1f87e8b8d48>"
      ]
     },
     "execution_count": 4,
     "metadata": {},
     "output_type": "execute_result"
    }
   ],
   "source": [
    "collection.insert_one({'name': 'kojiro tanaka', 'age': '25'})"
   ]
  },
  {
   "cell_type": "code",
   "execution_count": 5,
   "metadata": {},
   "outputs": [
    {
     "data": {
      "text/plain": [
       "<pymongo.results.InsertManyResult at 0x1f87e8fe8c8>"
      ]
     },
     "execution_count": 5,
     "metadata": {},
     "output_type": "execute_result"
    }
   ],
   "source": [
    "data = [\n",
    "    {'name': 'tomomi yoneda', 'age': '24'},\n",
    "    {'name': 'hiroki tanaka', 'age': '30'}\n",
    "]\n",
    "collection.insert_many(data)"
   ]
  },
  {
   "cell_type": "code",
   "execution_count": 6,
   "metadata": {},
   "outputs": [
    {
     "name": "stdout",
     "output_type": "stream",
     "text": [
      "{'_id': ObjectId('5b80b844b2bf2449704ef3e1'), 'name': 'kojiro tanaka', 'age': '25'}\n",
      "{'_id': ObjectId('5b80b8c2b2bf2449704ef3e2'), 'name': 'tomomi yoneda', 'age': '24'}\n",
      "{'_id': ObjectId('5b80b8c2b2bf2449704ef3e3'), 'name': 'hiroki tanaka', 'age': '30'}\n"
     ]
    }
   ],
   "source": [
    "for person in collection.find():\n",
    "    print(person)"
   ]
  },
  {
   "cell_type": "code",
   "execution_count": 7,
   "metadata": {},
   "outputs": [
    {
     "name": "stdout",
     "output_type": "stream",
     "text": [
      "{'_id': ObjectId('5b80b844b2bf2449704ef3e1'), 'name': 'kojiro tanaka', 'age': '25'}\n"
     ]
    }
   ],
   "source": [
    "for person in collection.find({'name': 'kojiro tanaka'}):\n",
    "    print(person)"
   ]
  },
  {
   "cell_type": "code",
   "execution_count": null,
   "metadata": {},
   "outputs": [],
   "source": []
  }
 ],
 "metadata": {
  "kernelspec": {
   "display_name": "Python 3",
   "language": "python",
   "name": "python3"
  },
  "language_info": {
   "codemirror_mode": {
    "name": "ipython",
    "version": 3
   },
   "file_extension": ".py",
   "mimetype": "text/x-python",
   "name": "python",
   "nbconvert_exporter": "python",
   "pygments_lexer": "ipython3",
   "version": "3.6.6"
  }
 },
 "nbformat": 4,
 "nbformat_minor": 2
}
